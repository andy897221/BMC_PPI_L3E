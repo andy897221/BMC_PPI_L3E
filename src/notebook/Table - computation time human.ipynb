{
 "cells": [
  {
   "cell_type": "code",
   "execution_count": 5,
   "metadata": {
    "ExecuteTime": {
     "end_time": "2021-06-20T11:17:56.754102Z",
     "start_time": "2021-06-20T11:17:56.751099Z"
    }
   },
   "outputs": [],
   "source": [
    "import json\n",
    "from statistics import mean\n",
    "import numpy as np"
   ]
  },
  {
   "cell_type": "code",
   "execution_count": 8,
   "metadata": {
    "ExecuteTime": {
     "end_time": "2021-06-20T11:21:29.271086Z",
     "start_time": "2021-06-20T11:21:29.260077Z"
    }
   },
   "outputs": [
    {
     "name": "stdout",
     "output_type": "stream",
     "text": [
      "['commonNeighbor_HuRI_sample_0', 'commonNeighbor_HuRI_sample_1', 'commonNeighbor_HuRI_sample_2', 'commonNeighbor_HuRI_sample_3', 'commonNeighbor_HuRI_sample_4', 'commonNeighbor_HuRI_sample_5', 'commonNeighbor_HuRI_sample_6', 'commonNeighbor_HuRI_sample_7', 'commonNeighbor_HuRI_sample_8', 'commonNeighbor_HuRI_sample_9']\n"
     ]
    }
   ],
   "source": [
    "runTime = {}\n",
    "with open(\"E:/research/ppiLPred_BMC/notebook/linkPred_out/runTime.json\", \"r\") as f:\n",
    "    runTime = json.loads(f.read())\n",
    "print(list(runTime.keys())[:10])"
   ]
  },
  {
   "cell_type": "code",
   "execution_count": 14,
   "metadata": {
    "ExecuteTime": {
     "end_time": "2021-06-20T11:23:45.351079Z",
     "start_time": "2021-06-20T11:23:45.331060Z"
    },
    "scrolled": true
   },
   "outputs": [
    {
     "name": "stdout",
     "output_type": "stream",
     "text": [
      "HuRI\n",
      "commonNeighbor: 2.87 minutes, std 0.1\n",
      "L3Normalizing: 3.28 minutes, std 0.09\n",
      "CRA: 2.73 minutes, std 0.03\n",
      "Sim: 3.41 minutes, std 0.02\n",
      "CH2_L3: 3.6 minutes, std 0.06\n",
      "L3E1_f1: 3.41 minutes, std 0.04\n",
      "L3E1_f2: 3.74 minutes, std 0.04\n",
      "\n",
      "MINT_human\n",
      "commonNeighbor: 2.03 minutes, std 0.14\n",
      "L3Normalizing: 2.12 minutes, std 0.11\n",
      "CRA: 1.93 minutes, std 0.02\n",
      "Sim: 2.12 minutes, std 0.02\n",
      "CH2_L3: 2.17 minutes, std 0.02\n",
      "L3E1_f1: 2.13 minutes, std 0.02\n",
      "L3E1_f2: 2.27 minutes, std 0.04\n",
      "\n"
     ]
    }
   ],
   "source": [
    "methods = [\"commonNeighbor\", \"L3Normalizing\", \"CRA\", \"Sim\", \"CH2_L3\", \"L3E1_f1\", \"L3E1_f2\"]\n",
    "#dss = ['bioGRID_human', 'STRING_human', 'HuRI', 'MINT_human']\n",
    "dss = ['HuRI', 'MINT_human']\n",
    "\n",
    "for ds in dss:\n",
    "    print(ds)\n",
    "    for method in methods:\n",
    "        print(\"{}: {} minutes, std {}\".format(\n",
    "            method,\n",
    "            np.around(mean([runTime[\"{}_{}_sample_{}\".format(method, ds, i)] for i in range(10)])/60, 2),\n",
    "            np.around(np.std([runTime[\"{}_{}_sample_{}\".format(method, ds, i)] for i in range(10)])/60, 2)\n",
    "         ))\n",
    "\n",
    "    print(\"\")"
   ]
  },
  {
   "cell_type": "code",
   "execution_count": 18,
   "metadata": {
    "ExecuteTime": {
     "end_time": "2021-06-23T10:11:19.384528Z",
     "start_time": "2021-06-23T10:11:19.377522Z"
    }
   },
   "outputs": [
    {
     "name": "stdout",
     "output_type": "stream",
     "text": [
      "['commonNeighbor_bioGRID_human_sample_0', 'commonNeighbor_bioGRID_human_sample_1', 'commonNeighbor_bioGRID_human_sample_2', 'commonNeighbor_bioGRID_human_sample_3', 'commonNeighbor_bioGRID_human_sample_4', 'commonNeighbor_bioGRID_human_sample_5', 'commonNeighbor_bioGRID_human_sample_6', 'commonNeighbor_bioGRID_human_sample_7', 'commonNeighbor_bioGRID_human_sample_8', 'commonNeighbor_bioGRID_human_sample_9']\n"
     ]
    }
   ],
   "source": [
    "runTime = {}\n",
    "with open(\"E:/research/ppiLPred_BMC/notebook/linkPred_out/runTime2.json\", \"r\") as f:\n",
    "    runTime = json.loads(f.read())\n",
    "print(list(runTime.keys())[:10])"
   ]
  },
  {
   "cell_type": "code",
   "execution_count": 19,
   "metadata": {
    "ExecuteTime": {
     "end_time": "2021-06-23T10:11:19.555682Z",
     "start_time": "2021-06-23T10:11:19.531660Z"
    }
   },
   "outputs": [
    {
     "name": "stdout",
     "output_type": "stream",
     "text": [
      "bioGRID_human\n",
      "commonNeighbor: 1.25 minutes, std 0.01\n",
      "L3Normalizing: 16.12 minutes, std 0.37\n",
      "CRA: 1.12 minutes, std 0.04\n",
      "Sim: 35.5 minutes, std 3.6\n",
      "CH2_L3: 117.33 minutes, std 4.78\n",
      "L3E1_f1: 27.9 minutes, std 0.89\n",
      "L3E1_f2: 130.26 minutes, std 4.97\n",
      "\n",
      "STRING_human\n",
      "commonNeighbor: 0.42 minutes, std 0.01\n",
      "L3Normalizing: 6.72 minutes, std 0.09\n",
      "CRA: 0.45 minutes, std 0.01\n",
      "Sim: 9.61 minutes, std 0.17\n",
      "CH2_L3: 25.32 minutes, std 0.5\n",
      "L3E1_f1: 11.97 minutes, std 0.19\n",
      "L3E1_f2: 31.52 minutes, std 0.71\n",
      "\n"
     ]
    }
   ],
   "source": [
    "methods = [\"commonNeighbor\", \"L3Normalizing\", \"CRA\", \"Sim\", \"CH2_L3\", \"L3E1_f1\", \"L3E1_f2\"]\n",
    "dss = ['bioGRID_human', 'STRING_human']\n",
    "\n",
    "for ds in dss:\n",
    "    print(ds)\n",
    "    for method in methods:\n",
    "        print(\"{}: {} minutes, std {}\".format(\n",
    "            method,\n",
    "            np.around(mean([runTime[\"{}_{}_sample_{}\".format(method, ds, i)] for i in range(10)])/60, 2),\n",
    "            np.around(np.std([runTime[\"{}_{}_sample_{}\".format(method, ds, i)] for i in range(10)])/60, 2)\n",
    "         ))\n",
    "\n",
    "    print(\"\")"
   ]
  },
  {
   "cell_type": "code",
   "execution_count": null,
   "metadata": {},
   "outputs": [],
   "source": []
  }
 ],
 "metadata": {
  "kernelspec": {
   "display_name": "Python 3",
   "language": "python",
   "name": "python3"
  },
  "language_info": {
   "codemirror_mode": {
    "name": "ipython",
    "version": 3
   },
   "file_extension": ".py",
   "mimetype": "text/x-python",
   "name": "python",
   "nbconvert_exporter": "python",
   "pygments_lexer": "ipython3",
   "version": "3.6.10"
  }
 },
 "nbformat": 4,
 "nbformat_minor": 4
}
