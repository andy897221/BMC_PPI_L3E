{
 "cells": [
  {
   "cell_type": "code",
   "execution_count": 1,
   "metadata": {
    "ExecuteTime": {
     "end_time": "2021-07-12T14:30:13.758197Z",
     "start_time": "2021-07-12T14:30:12.363934Z"
    },
    "init_cell": true
   },
   "outputs": [],
   "source": [
    "import sys, os\n",
    "sys.path.append('..')\n",
    "\n",
    "# std\n",
    "import numpy as np\n",
    "import random as rn\n",
    "import json\n",
    "import time\n",
    "from collections import defaultdict\n",
    "from itertools import combinations\n",
    "\n",
    "# datasets\n",
    "import STRING\n",
    "import MINT\n",
    "import bioGRID\n",
    "import HuRI\n",
    "\n",
    "# my lib\n",
    "import PPILinkPred as pred\n",
    "import genData_helper as helper\n",
    "import traversalHelper as tr\n",
    "import helper as hr"
   ]
  },
  {
   "cell_type": "markdown",
   "metadata": {},
   "source": [
    "# Generate Random PPI Samples from Datasets"
   ]
  },
  {
   "cell_type": "code",
   "execution_count": 2,
   "metadata": {
    "ExecuteTime": {
     "end_time": "2021-04-28T17:43:32.797187Z",
     "start_time": "2021-04-28T17:43:30.264886Z"
    },
    "deletable": false,
    "editable": false,
    "hide_input": false,
    "run_control": {
     "frozen": true
    }
   },
   "outputs": [],
   "source": [
    "# yeast dataset\n",
    "# DataFrame standard: {nodeA, nodeB, type, score}\n",
    "# randomly 50% of the dataset 10 times, save into json\n",
    "\n",
    "import_funcs = [bioGRID.parse_bioGRID(root=\"../\"), STRING.parse_STRING(root=\"../\"), MINT.parse_MINT(root=\"../\")]\n",
    "names = ['bioGRID', 'STRING', 'MINT']\n",
    "\n",
    "for n in range(len(names)):\n",
    "    _, df = import_funcs[n]\n",
    "    ppi = [list(arr) for arr in np.asarray(df[['nodeA', 'nodeB']])]\n",
    "    sampledPPIs = [rn.sample(ppi, int(len(ppi)*0.5)) for i in range(10)]\n",
    "    with open(\"./sampled_datasets/{}_sampledPPIs.json\".format(names[n]), \"w\") as f:\n",
    "        f.write(json.dumps(sampledPPIs))"
   ]
  },
  {
   "cell_type": "code",
   "execution_count": 2,
   "metadata": {
    "ExecuteTime": {
     "end_time": "2021-05-12T11:09:22.017807Z",
     "start_time": "2021-05-12T11:08:48.491029Z"
    },
    "deletable": false,
    "editable": false,
    "hide_input": false,
    "run_control": {
     "frozen": true
    }
   },
   "outputs": [],
   "source": [
    "# yeast dataset\n",
    "# DataFrame standard: {nodeA, nodeB, type, score}\n",
    "# randomly 50% of the dataset 10 times, save into json\n",
    "\n",
    "import_funcs = [bioGRID.parse_bioGRID(root=\"../\"), STRING.parse_STRING(root=\"../\"), MINT.parse_MINT(root=\"../\")]\n",
    "names = ['bioGRID', 'STRING', 'MINT']\n",
    "\n",
    "for randSz in range(95, 54, -5):\n",
    "    for n in range(len(names)):\n",
    "        _, df = import_funcs[n]\n",
    "        ppi = [list(arr) for arr in np.asarray(df[['nodeA', 'nodeB']])]\n",
    "        sampledPPIs = [rn.sample(ppi, int(len(ppi)*(randSz*0.01))) for i in range(10)]\n",
    "        with open(\"./sampled_datasets/{}_sampledPPIs_{}Percent.json\".format(names[n], randSz), \"w\") as f:\n",
    "            f.write(json.dumps(sampledPPIs))"
   ]
  },
  {
   "cell_type": "code",
   "execution_count": 3,
   "metadata": {
    "ExecuteTime": {
     "end_time": "2021-04-28T17:44:31.411356Z",
     "start_time": "2021-04-28T17:43:43.069369Z"
    },
    "deletable": false,
    "editable": false,
    "hide_input": false,
    "run_control": {
     "frozen": true
    }
   },
   "outputs": [],
   "source": [
    "# yeast dataset\n",
    "# sample non-PPIs of real-PPIs size\n",
    "\n",
    "import_funcs = [bioGRID.parse_bioGRID(root=\"../\"), STRING.parse_STRING(root=\"../\"), MINT.parse_MINT(root=\"../\")]\n",
    "names = ['bioGRID', 'STRING', 'MINT']\n",
    "\n",
    "for n in range(len(names)):\n",
    "    _, df = import_funcs[n]\n",
    "    ppi = [list(arr) for arr in np.asarray(df[['nodeA', 'nodeB']])]\n",
    "    realPPIsz = len(ppi)\n",
    "    dual_ppiStr = set(tr.Helper.list_to_pathStrs(tr.Helper.to_dual_binary_relation(ppi)))\n",
    "    \n",
    "    sampleNodes = tr.Helper.binary_relation_to_node(ppi)\n",
    "    nodePairs = tr.Helper.list_to_pathStrs(list(combinations(sampleNodes, 2)))\n",
    "    \n",
    "    nonPPIs = [ppi for ppi in nodePairs if ppi not in dual_ppiStr]\n",
    "    sampled_nonPPIs = [tr.Helper.pathStrs_to_list(rn.sample(nonPPIs, realPPIsz)) for i in range(10)]\n",
    "    \n",
    "    with open(\"./sampled_datasets/{}_sampled_nonPPIs.json\".format(names[n]), \"w\") as f:\n",
    "        f.write(json.dumps(sampled_nonPPIs))"
   ]
  },
  {
   "cell_type": "markdown",
   "metadata": {},
   "source": [
    "# Run Link Prediction"
   ]
  },
  {
   "cell_type": "code",
   "execution_count": null,
   "metadata": {
    "ExecuteTime": {
     "end_time": "2021-04-30T20:08:14.397198Z",
     "start_time": "2021-04-30T15:40:27.573531Z"
    },
    "deletable": false,
    "editable": false,
    "hide_input": false,
    "run_control": {
     "frozen": true
    },
    "scrolled": true
   },
   "outputs": [],
   "source": [
    "methods = [\"commonNeighbor\", \"L3Normalizing\", \"CRA\", \"CH2_L3\", \"Sim\", 'L3E1_f1', 'L3E1_f2', 'random']\n",
    "ds_names = ['bioGRID', 'STRING', 'MINT']\n",
    "\n",
    "for ds_name in ds_names:\n",
    "    # read dataset\n",
    "    samplePPIs = []\n",
    "    with open(\"./sampled_datasets/{}_sampledPPIs.json\".format(ds_name), \"r\") as f:\n",
    "        samplePPIs = json.loads(f.read())\n",
    "\n",
    "    # do link prediction & save results\n",
    "    for method in methods:\n",
    "        for i in range(len(samplePPIs)):\n",
    "            saveFilename = \"{}_{}_sample_{}\".format(method, ds_name, i)\n",
    "            startTime = time.time()\n",
    "            \n",
    "            # jupyter notebook cannot display multi core logging, do it only in terminal\n",
    "            predPPI, predScore = pred.multiCore_PPILinkPred(samplePPIs[i]\n",
    "                                                            , method, coreNo=14, logging=False)\n",
    "            helper.write_runTime(saveFilename, time.time()-startTime)\n",
    "            helper.write_resultData(predPPI, predScore, saveFilename)"
   ]
  },
  {
   "cell_type": "code",
   "execution_count": null,
   "metadata": {
    "ExecuteTime": {
     "end_time": "2021-05-19T06:13:50.095400Z",
     "start_time": "2021-05-18T18:33:04.024294Z"
    },
    "deletable": false,
    "editable": false,
    "hide_input": false,
    "run_control": {
     "frozen": true
    },
    "scrolled": true
   },
   "outputs": [],
   "source": [
    "methods = [\"commonNeighbor\", \"L3Normalizing\", \"CRA\", \"Sim\", \"L3E1_f1\", 'L3E1_f2', 'random']\n",
    "# skip CH2 and L3E1_f2 first because waste time, may use HPC\n",
    "ds_names = ['bioGRID', 'STRING', 'MINT']\n",
    "\n",
    "for randSz in range(60, 100, 10):\n",
    "    for ds_name in ds_names:\n",
    "        # read dataset\n",
    "        samplePPIs = []\n",
    "        with open(\"./sampled_datasets/{}_sampledPPIs_{}Percent.json\".format(ds_name, randSz), \"r\") as f:\n",
    "            samplePPIs = json.loads(f.read())\n",
    "\n",
    "        # do link prediction & save results\n",
    "        for method in methods:\n",
    "            print(randSz, ds_name, method)\n",
    "            for i in range(len(samplePPIs)):\n",
    "                saveFilename = \"{}_{}_sample_{}_randSz{}Percent\".format(method, ds_name, i, randSz)\n",
    "                startTime = time.time()\n",
    "\n",
    "                # jupyter notebook cannot display multi core logging, do it only in terminal\n",
    "                predPPI, predScore = pred.multiCore_PPILinkPred(samplePPIs[i]\n",
    "                                                                , method, coreNo=14, logging=False)\n",
    "                helper.write_runTime(saveFilename, time.time()-startTime)\n",
    "                helper.write_resultData(predPPI, predScore, saveFilename)"
   ]
  },
  {
   "cell_type": "markdown",
   "metadata": {},
   "source": [
    "# Data Cleaning for Analysis & Processing"
   ]
  },
  {
   "cell_type": "code",
   "execution_count": 23,
   "metadata": {
    "ExecuteTime": {
     "end_time": "2021-05-19T09:55:56.041709Z",
     "start_time": "2021-05-19T09:42:56.879779Z"
    },
    "deletable": false,
    "editable": false,
    "run_control": {
     "frozen": true
    }
   },
   "outputs": [],
   "source": [
    "# extract only top n edges, n = size of sampled dataset\n",
    "methods = [\"commonNeighbor\", \"L3Normalizing\", \"CRA\", \"CH2_L3\", \"Sim\", 'random']+[j+\"_\"+i for j in ['L3E1', 'L3E4'] for i in ['f1', 'f2']]\n",
    "ds_names = ['bioGRID', 'STRING', 'MINT']\n",
    "\n",
    "for ds_name in ds_names:\n",
    "    samplePPIs = []\n",
    "    with open(\"./sampled_datasets/{}_sampledPPIs.json\".format(ds_name), \"r\") as f:\n",
    "        samplePPIs = json.loads(f.read())\n",
    "    sampleSize = len(samplePPIs[0])\n",
    "    \n",
    "    # loop each method, each trial, extract the number into one json\n",
    "    for method in methods:\n",
    "        fullPPI, fullScore = [], []\n",
    "        for trial in range(10):\n",
    "            with open(\"E:/research/ppiLPred_BMC/notebook/linkPred_out/{}_{}_sample_{}_PPI.json\".format(method, ds_name, trial), \"r\") as f:\n",
    "                fullPPI.append(json.loads(f.read())[0:sampleSize])\n",
    "            with open(\"E:/research/ppiLPred_BMC/notebook/linkPred_out/{}_{}_sample_{}_score.json\".format(method, ds_name, trial), \"r\") as f:\n",
    "                fullScore.append(json.loads(f.read())[0:sampleSize])\n",
    "        with open(\"./linkPred_out_reduced/{}_{}_topPPI.json\".format(method, ds_name), \"w\") as f:\n",
    "            f.write(json.dumps(fullPPI))\n",
    "        with open(\"./linkPred_out_reduced/{}_{}_topScore.json\".format(method, ds_name), \"w\") as f:\n",
    "            f.write(json.dumps(fullScore))"
   ]
  },
  {
   "cell_type": "code",
   "execution_count": 2,
   "metadata": {
    "ExecuteTime": {
     "end_time": "2021-07-12T14:30:13.774211Z",
     "start_time": "2021-07-12T14:30:13.760199Z"
    },
    "init_cell": true
   },
   "outputs": [],
   "source": [
    "allPaths = [\"I:/research/ppiLPred_BMC/notebook\"\n",
    "            , \"E:/research/ppiLPred_BMC/notebook\"\n",
    "            , \"D:/research offline repo/ppiLPred_BMC/notebook\"\n",
    "            , \"G:/research/ppiLPred_BMC/notebook\"]\n",
    "coreNo, trialNum = 24, 10\n",
    "def verify(method, ds, randSz):\n",
    "    # check HPC or not\n",
    "    isHPC = None\n",
    "    for path in allPaths:\n",
    "        # check if file exists in linkPred_out_reduced\n",
    "        if os.path.exists(\"./linkPred_out_reduced/{}_{}_randSz{}_topPPI.json\".format(\n",
    "            method, ds, randSz)): return 0, None, None\n",
    "        if os.path.exists(\"{}/linkPred_out/{}_{}_sample_9_randSz{}Percent_c0_PPI.json\".format(\n",
    "            path, method, ds, randSz)):\n",
    "            isHPC = True\n",
    "            break\n",
    "        elif os.path.exists(\"{}/linkPred_out/{}_{}_sample_9_randSz{}Percent_PPI.json\".format(\n",
    "            path, method, ds, randSz)):\n",
    "            isHPC = False\n",
    "            break\n",
    "    if isHPC is None: return 2, None, None\n",
    "    # iterate the abs path to all related files\n",
    "    filenames = []\n",
    "    if isHPC:\n",
    "        for trial in range(trialNum):\n",
    "            for core in range(coreNo):\n",
    "                for path in allPaths:\n",
    "                    filename = \"{}/linkPred_out/{}_{}_sample_{}_randSz{}Percent_c{}_PPI.json\".format(\n",
    "                        path, method, ds, trial, randSz, core)\n",
    "                    if os.path.exists(filename): filenames.append(filename.split(\"_PPI.json\")[0])\n",
    "    else:\n",
    "        for trial in range(trialNum):\n",
    "            for path in allPaths:\n",
    "                filename = \"{}/linkPred_out/{}_{}_sample_{}_randSz{}Percent_PPI.json\".format(\n",
    "                    path, method, ds, trial, randSz)\n",
    "                if os.path.exists(filename): filenames.append(filename.split(\"_PPI.json\")[0])\n",
    "    # return available, list of files, also isHPC\n",
    "    return 1, filenames, isHPC"
   ]
  },
  {
   "cell_type": "code",
   "execution_count": 11,
   "metadata": {
    "ExecuteTime": {
     "end_time": "2021-05-23T01:23:06.035147Z",
     "start_time": "2021-05-22T18:08:41.107190Z"
    },
    "hide_input": true,
    "scrolled": true
   },
   "outputs": [
    {
     "name": "stdout",
     "output_type": "stream",
     "text": [
      "60 bioGRID commonNeighbor False 1\n",
      "60 bioGRID L3Normalizing False 1\n",
      "60 bioGRID CRA False 1\n",
      "60 bioGRID CH2_L3 True 1\n",
      "60 bioGRID Sim False 1\n",
      "60 bioGRID random False 1\n",
      "60 bioGRID L3E1_f1 False 1\n",
      "60 bioGRID L3E1_f2 True 1\n",
      "60 STRING commonNeighbor False 1\n",
      "60 STRING L3Normalizing False 1\n",
      "60 STRING CRA False 1\n",
      "60 STRING CH2_L3 True 1\n",
      "60 STRING Sim False 1\n",
      "60 STRING random False 1\n",
      "60 STRING L3E1_f1 False 1\n",
      "60 STRING L3E1_f2 True 1\n",
      "60 MINT commonNeighbor False 1\n",
      "60 MINT L3Normalizing False 1\n",
      "60 MINT CRA False 1\n",
      "60 MINT CH2_L3 True 1\n",
      "60 MINT Sim False 1\n",
      "60 MINT random False 1\n",
      "60 MINT L3E1_f1 False 1\n",
      "60 MINT L3E1_f2 True 1\n",
      "70 bioGRID commonNeighbor False 1\n",
      "70 bioGRID L3Normalizing False 1\n",
      "70 bioGRID CRA False 1\n",
      "70 bioGRID CH2_L3 True 1\n",
      "70 bioGRID Sim False 1\n",
      "70 bioGRID random False 1\n",
      "70 bioGRID L3E1_f1 False 1\n",
      "70 bioGRID L3E1_f2 True 1\n",
      "70 STRING commonNeighbor False 1\n",
      "70 STRING L3Normalizing False 1\n",
      "70 STRING CRA False 1\n",
      "70 STRING CH2_L3 True 1\n",
      "70 STRING Sim False 1\n",
      "70 STRING random False 1\n",
      "70 STRING L3E1_f1 False 1\n",
      "70 STRING L3E1_f2 True 1\n",
      "70 MINT commonNeighbor False 1\n",
      "70 MINT L3Normalizing False 1\n",
      "70 MINT CRA False 1\n",
      "70 MINT CH2_L3 True 1\n",
      "70 MINT Sim False 1\n",
      "70 MINT random False 1\n",
      "70 MINT L3E1_f1 False 1\n",
      "70 MINT L3E1_f2 True 1\n",
      "80 bioGRID commonNeighbor False 1\n",
      "80 bioGRID L3Normalizing False 1\n",
      "80 bioGRID CRA False 1\n",
      "80 bioGRID CH2_L3 True 1\n",
      "80 bioGRID Sim False 1\n",
      "80 bioGRID random False 1\n",
      "80 bioGRID L3E1_f1 False 1\n",
      "80 bioGRID L3E1_f2 True 1\n",
      "80 STRING commonNeighbor False 1\n",
      "80 STRING L3Normalizing False 1\n",
      "80 STRING CRA False 1\n",
      "80 STRING CH2_L3 True 1\n",
      "80 STRING Sim False 1\n",
      "80 STRING random False 1\n",
      "80 STRING L3E1_f1 False 1\n",
      "80 STRING L3E1_f2 True 1\n",
      "80 MINT commonNeighbor False 1\n",
      "80 MINT L3Normalizing False 1\n",
      "80 MINT CRA False 1\n",
      "80 MINT CH2_L3 True 1\n",
      "80 MINT Sim False 1\n",
      "80 MINT random False 1\n",
      "80 MINT L3E1_f1 False 1\n",
      "80 MINT L3E1_f2 True 1\n",
      "90 bioGRID commonNeighbor False 1\n",
      "90 bioGRID L3Normalizing False 1\n",
      "90 bioGRID CRA False 1\n",
      "90 bioGRID CH2_L3 True 1\n",
      "90 bioGRID Sim False 1\n",
      "90 bioGRID random False 1\n",
      "90 bioGRID L3E1_f1 False 1\n",
      "90 bioGRID L3E1_f2 True 1\n",
      "90 STRING commonNeighbor False 1\n",
      "90 STRING L3Normalizing False 1\n",
      "90 STRING CRA False 1\n",
      "90 STRING CH2_L3 True 1\n",
      "90 STRING Sim False 1\n",
      "90 STRING random False 1\n",
      "90 STRING L3E1_f1 False 1\n",
      "90 STRING L3E1_f2 True 1\n",
      "90 MINT commonNeighbor False 1\n",
      "90 MINT L3Normalizing False 1\n",
      "90 MINT CRA False 1\n",
      "90 MINT CH2_L3 True 1\n",
      "90 MINT Sim False 1\n",
      "90 MINT random False 1\n",
      "90 MINT L3E1_f1 False 1\n",
      "90 MINT L3E1_f2 True 1\n"
     ]
    }
   ],
   "source": [
    "# trim data that isn't trimmed yet\n",
    "methods = [\"commonNeighbor\", \"L3Normalizing\", \"CRA\", \"CH2_L3\", \"Sim\", 'random', \"L3E1_f1\", \"L3E1_f2\"]\n",
    "dss = ['bioGRID', 'STRING', 'MINT']\n",
    "coreNo, trialNum = 24, 10\n",
    "\n",
    "for randSz in range(60, 100, 10):\n",
    "    for ds in dss:\n",
    "        samplePPIs = []\n",
    "        with open(\"./sampled_datasets/{}_sampledPPIs_{}Percent.json\".format(ds, randSz), \"r\") as f:\n",
    "            samplePPIs = json.loads(f.read())\n",
    "        sampleSize = len(samplePPIs[0])\n",
    "    \n",
    "        for method in methods:\n",
    "            available, filenames, isHPC = verify(method, ds, randSz)\n",
    "            print(randSz, ds, method, isHPC, available)\n",
    "            if available != 1: continue\n",
    "\n",
    "            if isHPC:\n",
    "                \n",
    "                for trial in range(trialNum):\n",
    "                    topPPIs, topScores = [], []\n",
    "                    for core in range(coreNo):\n",
    "                        with open(filenames[trial*coreNo+core]+\"_PPI.json\", \"r\") as f: topPPIs += json.loads(f.read())\n",
    "                        with open(filenames[trial*coreNo+core]+\"_score.json\", \"r\") as f: topScores += json.loads(f.read())\n",
    "                        topPPIs, topScores = hr.sort_key_val(topPPIs, topScores)\n",
    "                        topPPIs, topScores = topPPIs[:sampleSize], topScores[:sampleSize]\n",
    "                    with open(\"./linkPred_out_combined/{}_{}_sample_{}_randSz{}_topPPI.json\".format(method, ds, trial, randSz), \"w\") as f:\n",
    "                        f.write(json.dumps(topPPIs))\n",
    "                    with open(\"./linkPred_out_combined/{}_{}_sample_{}_randSz{}_topScore.json\".format(method, ds, trial, randSz), \"w\") as f:\n",
    "                        f.write(json.dumps(topScores))\n",
    "                        \n",
    "                fullPPIs, fullScores = [], []\n",
    "                for trial in range(10):\n",
    "                    with open(\"./linkPred_out_combined/{}_{}_sample_{}_randSz{}_topPPI.json\".format(method, ds, trial, randSz), \"r\") as f:\n",
    "                        fullPPIs.append(json.loads(f.read()))\n",
    "                    with open(\"./linkPred_out_combined/{}_{}_sample_{}_randSz{}_topScore.json\".format(method, ds, trial, randSz), \"r\") as f:\n",
    "                        fullScores.append(json.loads(f.read()))\n",
    "                with open(\"./linkPred_out_reduced/{}_{}_randSz{}_topPPI.json\".format(method, ds, randSz), \"w\") as f:\n",
    "                    f.write(json.dumps(fullPPIs))\n",
    "                with open(\"./linkPred_out_reduced/{}_{}_randSz{}_topScore.json\".format(method, ds, randSz), \"w\") as f:\n",
    "                    f.write(json.dumps(fullScores))\n",
    "                    \n",
    "            else:\n",
    "                \n",
    "                fullPPIs, fullScores = [], []\n",
    "                for filename in filenames:\n",
    "                    with open(filename+\"_PPI.json\", \"r\") as f: fullPPIs.append(json.loads(f.read())[0:sampleSize])\n",
    "                    with open(filename+\"_score.json\", \"r\") as f: fullScores.append(json.loads(f.read())[0:sampleSize])\n",
    "                with open(\"./linkPred_out_reduced/{}_{}_randSz{}_topPPI.json\".format(method, ds, randSz), \"w\") as f:\n",
    "                    f.write(json.dumps(fullPPIs))\n",
    "                with open(\"./linkPred_out_reduced/{}_{}_randSz{}_topScore.json\".format(method, ds, randSz), \"w\") as f:\n",
    "                    f.write(json.dumps(fullScores))"
   ]
  },
  {
   "cell_type": "code",
   "execution_count": 35,
   "metadata": {
    "ExecuteTime": {
     "end_time": "2021-05-23T16:55:23.699315Z",
     "start_time": "2021-05-23T16:53:34.172163Z"
    }
   },
   "outputs": [],
   "source": [
    "# above randSz reduced wrong, reduce even more\n",
    "methods = [\"commonNeighbor\", \"L3Normalizing\", \"CRA\", \"CH2_L3\", \"Sim\", 'random', \"L3E1_f1\", \"L3E1_f2\"]\n",
    "dss = ['bioGRID', 'STRING', 'MINT']\n",
    "\n",
    "for randSz in range(60, 100, 10):\n",
    "    for ds in dss:\n",
    "        samplePPIs = []\n",
    "        with open(\"./sampled_datasets/{}_sampledPPIs_{}Percent.json\".format(ds, randSz), \"r\") as f:\n",
    "            samplePPIs = json.loads(f.read())\n",
    "        sampleSize = len(samplePPIs[0])\n",
    "    \n",
    "        for method in methods:\n",
    "            reducedPPIs, reducedScores = [], []\n",
    "            with open(\"./linkPred_out_reduced/{}_{}_randSz{}_topPPI.json\".format(method, ds, randSz), \"r\") as f:\n",
    "                reducedPPIs = json.loads(f.read())\n",
    "            with open(\"./linkPred_out_reduced/{}_{}_randSz{}_topScore.json\".format(method, ds, randSz), \"r\") as f:\n",
    "                reducedScores = json.loads(f.read())\n",
    "                \n",
    "            for i in range(len(reducedPPIs)):\n",
    "                reducedPPIs[i] = reducedPPIs[i][:int(sampleSize/(randSz/100)*np.around(1-randSz/100, 2))]\n",
    "                reducedScores[i] = reducedScores[i][:int(sampleSize/(randSz/100)*np.around(1-randSz/100, 2))]\n",
    "                \n",
    "            with open(\"./linkPred_out_reduced/{}_{}_randSz{}_topPPI.json\".format(method, ds, randSz), \"w\") as f:\n",
    "                f.write(json.dumps(reducedPPIs))\n",
    "            with open(\"./linkPred_out_reduced/{}_{}_randSz{}_topScore.json\".format(method, ds, randSz), \"w\") as f:\n",
    "                f.write(json.dumps(reducedScores))"
   ]
  },
  {
   "cell_type": "markdown",
   "metadata": {},
   "source": [
    "# Generate GOSemSim"
   ]
  },
  {
   "cell_type": "markdown",
   "metadata": {},
   "source": [
    "run **GOSemSim_compute.R** of the same directory, it scans ./linkPred_out and output GOSemSim in the same format of **xxx_topScore.json**"
   ]
  },
  {
   "cell_type": "markdown",
   "metadata": {},
   "source": [
    "# Generate precision recall"
   ]
  },
  {
   "cell_type": "code",
   "execution_count": 5,
   "metadata": {
    "ExecuteTime": {
     "end_time": "2021-04-30T22:47:59.979524Z",
     "start_time": "2021-04-30T22:39:24.550879Z"
    },
    "deletable": false,
    "editable": false,
    "run_control": {
     "frozen": true
    }
   },
   "outputs": [],
   "source": [
    "# for each dataset & predictor, get precision recall and save in one file for each trial\n",
    "methods = [\"commonNeighbor\", \"L3Normalizing\", \"CRA\", \"CH2_L3\", \"Sim\", \"L3E1_f1\", \"L3E1_f2\", \"random\"]\n",
    "ds_names = ['bioGRID', 'STRING', 'MINT']\n",
    "\n",
    "completePPIs_map = [\n",
    "    [list(ppi) for ppi in np.asarray([*bioGRID.parse_bioGRID(root='../')][1][['nodeA', 'nodeB']])]\n",
    "    , [list(ppi) for ppi in np.asarray([*STRING.parse_STRING(root='../')][1][['nodeA', 'nodeB']])]\n",
    "    , [list(ppi) for ppi in np.asarray([*MINT.parse_MINT(root='../')][1][['nodeA', 'nodeB']])]\n",
    "]\n",
    "completePPIs = dict(zip(ds_names, completePPIs_map))\n",
    "\n",
    "\n",
    "for ds_name in ds_names:\n",
    "    samplePPIs = []\n",
    "    with open(\"./sampled_datasets/{}_sampledPPIs.json\".format(ds_name), \"r\") as f:\n",
    "        samplePPIs = json.loads(f.read())\n",
    "\n",
    "    for method in methods:\n",
    "        fullPPIs = []\n",
    "        with open(\"./linkPred_out_reduced/{}_{}_topPPI.json\".format(method, ds_name), \"r\") as f:\n",
    "            fullPPIs = json.loads(f.read())\n",
    "            \n",
    "        # len(fullPPIs) = len(samplePPIs) = 10, because 10 trials\n",
    "        precRecMap = pred.precRecMap_multiCore(\n",
    "            [\"{}_{}_topPPI_{}\".format(method, ds_name, i) for i in range(len(fullPPIs))]\n",
    "          , fullPPIs, samplePPIs, [completePPIs[ds_name] for i in range(len(fullPPIs))]\n",
    "          , coreNo=10)\n",
    "        \n",
    "        for key in precRecMap:\n",
    "            with open(\"./precision_recall_out/{}.json\".format(key), 'w') as f:\n",
    "                f.write(json.dumps(precRecMap[key]))"
   ]
  },
  {
   "cell_type": "code",
   "execution_count": 36,
   "metadata": {
    "ExecuteTime": {
     "end_time": "2021-05-23T17:26:38.807889Z",
     "start_time": "2021-05-23T17:01:31.583236Z"
    },
    "deletable": false,
    "editable": false,
    "run_control": {
     "frozen": true
    }
   },
   "outputs": [],
   "source": [
    "# for each dataset & predictor, get precision recall and save in one file for each trial\n",
    "methods = [\"commonNeighbor\", \"L3Normalizing\", \"CRA\", \"CH2_L3\", \"Sim\", \"random\", \"L3E1_f1\", \"L3E1_f2\"]\n",
    "ds_names = ['bioGRID', 'STRING', 'MINT']\n",
    "\n",
    "completePPIs_map = [\n",
    "    [list(ppi) for ppi in np.asarray([*bioGRID.parse_bioGRID(root='../')][1][['nodeA', 'nodeB']])]\n",
    "    , [list(ppi) for ppi in np.asarray([*STRING.parse_STRING(root='../')][1][['nodeA', 'nodeB']])]\n",
    "    , [list(ppi) for ppi in np.asarray([*MINT.parse_MINT(root='../')][1][['nodeA', 'nodeB']])]\n",
    "]\n",
    "completePPIs = dict(zip(ds_names, completePPIs_map))\n",
    "\n",
    "for randSz in range(60, 100, 10):\n",
    "    for ds_name in ds_names:\n",
    "        samplePPIs = []\n",
    "        with open(\"./sampled_datasets/{}_sampledPPIs_{}Percent.json\".format(ds_name, randSz), \"r\") as f:\n",
    "            samplePPIs = json.loads(f.read())\n",
    "\n",
    "        for method in methods:\n",
    "            fullPPIs = [] \n",
    "            with open(\"./linkPred_out_reduced/{}_{}_randSz{}_topPPI.json\".format(method, ds_name, randSz), \"r\") as f:\n",
    "                fullPPIs = json.loads(f.read())\n",
    "\n",
    "            # len(fullPPIs) = len(samplePPIs) = 10, because 10 trials\n",
    "            precRecMap = pred.precRecMap_multiCore(\n",
    "                [\"{}_{}_randSz{}_topPPI_{}\".format(method, ds_name, randSz, i) for i in range(len(fullPPIs))]\n",
    "              , fullPPIs, samplePPIs, [completePPIs[ds_name] for i in range(len(fullPPIs))]\n",
    "              , coreNo=10)\n",
    "\n",
    "            for key in precRecMap:\n",
    "                with open(\"./precision_recall_out/{}.json\".format(key), 'w') as f:\n",
    "                    f.write(json.dumps(precRecMap[key]))"
   ]
  },
  {
   "cell_type": "code",
   "execution_count": null,
   "metadata": {},
   "outputs": [],
   "source": []
  }
 ],
 "metadata": {
  "celltoolbar": "Initialization Cell",
  "kernelspec": {
   "display_name": "Python 3",
   "language": "python",
   "name": "python3"
  },
  "language_info": {
   "codemirror_mode": {
    "name": "ipython",
    "version": 3
   },
   "file_extension": ".py",
   "mimetype": "text/x-python",
   "name": "python",
   "nbconvert_exporter": "python",
   "pygments_lexer": "ipython3",
   "version": "3.6.10"
  }
 },
 "nbformat": 4,
 "nbformat_minor": 4
}
